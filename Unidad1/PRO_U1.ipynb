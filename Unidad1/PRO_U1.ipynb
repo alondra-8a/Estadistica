{
  "nbformat": 4,
  "nbformat_minor": 0,
  "metadata": {
    "colab": {
      "provenance": [],
      "authorship_tag": "ABX9TyNk8guL1F+vLK4+zYJuQpfh",
      "include_colab_link": true
    },
    "kernelspec": {
      "name": "python3",
      "display_name": "Python 3"
    },
    "language_info": {
      "name": "python"
    }
  },
  "cells": [
    {
      "cell_type": "markdown",
      "metadata": {
        "id": "view-in-github",
        "colab_type": "text"
      },
      "source": [
        "<a href=\"https://colab.research.google.com/github/alondra-8a/Estadistica/blob/main/Unidad1/PRO_U1.ipynb\" target=\"_parent\"><img src=\"https://colab.research.google.com/assets/colab-badge.svg\" alt=\"Open In Colab\"/></a>"
      ]
    },
    {
      "cell_type": "code",
      "execution_count": 2,
      "metadata": {
        "id": "zY94rhkbToY7"
      },
      "outputs": [],
      "source": [
        "from statistics import *"
      ]
    },
    {
      "cell_type": "markdown",
      "source": [
        "MEDIA"
      ],
      "metadata": {
        "id": "AcEdz7TSWPEC"
      }
    },
    {
      "cell_type": "code",
      "source": [
        "#lista de calificaciones del frupo a de probabilidad y estadística\n",
        "grupoa = [ 70,70,65,90,100,95,45,80,73,20,100,96]\n",
        "print(grupoa)"
      ],
      "metadata": {
        "colab": {
          "base_uri": "https://localhost:8080/"
        },
        "id": "EHGsO9TGT6OY",
        "outputId": "dd74519e-5574-4129-bd6b-7cf97d63aee0"
      },
      "execution_count": 3,
      "outputs": [
        {
          "output_type": "stream",
          "name": "stdout",
          "text": [
            "[70, 70, 65, 90, 100, 95, 45, 80, 73, 20, 100, 96]\n"
          ]
        }
      ]
    },
    {
      "cell_type": "code",
      "source": [
        "# la función type nos devuelve el tipo de dato de la variable\n",
        "type (grupoa)"
      ],
      "metadata": {
        "colab": {
          "base_uri": "https://localhost:8080/"
        },
        "id": "7PW6dTXsUW-V",
        "outputId": "271c09ba-183f-4da0-f171-9fcda94344a4"
      },
      "execution_count": 4,
      "outputs": [
        {
          "output_type": "execute_result",
          "data": {
            "text/plain": [
              "list"
            ]
          },
          "metadata": {},
          "execution_count": 4
        }
      ]
    },
    {
      "cell_type": "code",
      "source": [
        "# Sacar la media de las calificaciones con una formula\n",
        "promedio = sum(grupoa) / len(grupoa) #len es la longitud de los elementos de la lista a\n",
        "print(promedio)"
      ],
      "metadata": {
        "colab": {
          "base_uri": "https://localhost:8080/"
        },
        "id": "W8n9iollU4Kf",
        "outputId": "cb56a07d-ba0a-4408-e7a5-5f11756a0e3d"
      },
      "execution_count": 5,
      "outputs": [
        {
          "output_type": "stream",
          "name": "stdout",
          "text": [
            "75.33333333333333\n"
          ]
        }
      ]
    },
    {
      "cell_type": "code",
      "source": [
        "# utilizar la función mean que esta en la libreria statistics para sacar el promedio\n",
        "promedio2 = mean(grupoa)\n",
        "print(promedio2)"
      ],
      "metadata": {
        "colab": {
          "base_uri": "https://localhost:8080/"
        },
        "id": "F_eHo_RAVc-w",
        "outputId": "c89d8a11-ee7c-4ead-c19a-07b10fed5a7e"
      },
      "execution_count": 6,
      "outputs": [
        {
          "output_type": "stream",
          "name": "stdout",
          "text": [
            "75.33333333333333\n"
          ]
        }
      ]
    },
    {
      "cell_type": "markdown",
      "source": [
        "MEDIANA\n"
      ],
      "metadata": {
        "id": "TdHNGBoxWKiF"
      }
    },
    {
      "cell_type": "code",
      "source": [
        "#Determinar el valor de la mediana con la funcion median\n",
        "mediana = median(grupoa)\n",
        "print(mediana)"
      ],
      "metadata": {
        "colab": {
          "base_uri": "https://localhost:8080/"
        },
        "id": "NNYIqUJbWNyL",
        "outputId": "0b18d2f2-9d74-4bab-e520-ccc5d3d73ec2"
      },
      "execution_count": 7,
      "outputs": [
        {
          "output_type": "stream",
          "name": "stdout",
          "text": [
            "76.5\n"
          ]
        }
      ]
    },
    {
      "cell_type": "markdown",
      "source": [
        "MODA\n",
        "\n",
        "-La moda es el valor que mas se repite dentro de un conjunto de datos\n"
      ],
      "metadata": {
        "id": "kUkW05QZXIBp"
      }
    },
    {
      "cell_type": "code",
      "source": [
        "\n",
        "# determinar el valor de la moda conla funcion mode\n",
        "moda = mode(grupoa)\n",
        "print(moda)"
      ],
      "metadata": {
        "colab": {
          "base_uri": "https://localhost:8080/"
        },
        "id": "779VEWGpXWrZ",
        "outputId": "0355c76b-2022-4338-b21f-bf02fa5f7434"
      },
      "execution_count": 8,
      "outputs": [
        {
          "output_type": "stream",
          "name": "stdout",
          "text": [
            "70\n"
          ]
        }
      ]
    },
    {
      "cell_type": "code",
      "source": [
        "#En caso de que exista mas de una moda, se puede emplear la funciom multimode\n",
        "# para sacar las multiples modas que puedan existir\n",
        "moda2 = multimode(grupoa)\n",
        "print(moda2)"
      ],
      "metadata": {
        "colab": {
          "base_uri": "https://localhost:8080/"
        },
        "id": "5FOoV7J4YASR",
        "outputId": "b1239a56-a0c6-4dad-eac6-2355ad149958"
      },
      "execution_count": 9,
      "outputs": [
        {
          "output_type": "stream",
          "name": "stdout",
          "text": [
            "[70, 100]\n"
          ]
        }
      ]
    },
    {
      "cell_type": "markdown",
      "source": [
        "**EJEMPLO** **2**\n",
        "\n",
        "-calcular el tiempo de 100 metros de un grupo de 12 personas"
      ],
      "metadata": {
        "id": "3rzSvtmVYlPT"
      }
    },
    {
      "cell_type": "code",
      "source": [
        "#Definimos una variable llamada tiempos100mts de tiempo de lista, que contiene\n",
        "# los tiempos que tardaron los alumnos en correr 100 metros\n",
        "tiempos100mts = [15.10,17.20,14.69,13.27,22.15,28.71,19.15,20.65,15.10,17.20]\n",
        "print(tiempos100mts)"
      ],
      "metadata": {
        "id": "tLj6nVJZYrCh",
        "colab": {
          "base_uri": "https://localhost:8080/"
        },
        "outputId": "618d1766-d2e2-44d3-a6d6-3ae302eca6a2"
      },
      "execution_count": 10,
      "outputs": [
        {
          "output_type": "stream",
          "name": "stdout",
          "text": [
            "[15.1, 17.2, 14.69, 13.27, 22.15, 28.71, 19.15, 20.65, 15.1, 17.2]\n"
          ]
        }
      ]
    },
    {
      "cell_type": "markdown",
      "source": [
        "MEAN"
      ],
      "metadata": {
        "id": "SdGZaY-nam0Y"
      }
    },
    {
      "cell_type": "code",
      "source": [
        "media = mean(tiempos100mts)\n",
        "print(\"la media de los tiempos de los corredores es -->\",media)"
      ],
      "metadata": {
        "colab": {
          "base_uri": "https://localhost:8080/"
        },
        "id": "0CgyCVRXvA6n",
        "outputId": "78399654-50ff-4fe1-af81-de25f3ae5b50"
      },
      "execution_count": 27,
      "outputs": [
        {
          "output_type": "stream",
          "name": "stdout",
          "text": [
            "la media de los tiempos de los corredores es --> 18.322\n"
          ]
        }
      ]
    },
    {
      "cell_type": "markdown",
      "source": [
        "MEDIANA"
      ],
      "metadata": {
        "id": "PMEKu0vNasCA"
      }
    },
    {
      "cell_type": "code",
      "source": [
        "#Usamos la funcion median para determinar el tiempo promedio de la lista de valores\n",
        "\n",
        "mediana = median (tiempos100mts)\n",
        "print(\"la media de los tiempos de los corredores es -->\",mediana)"
      ],
      "metadata": {
        "colab": {
          "base_uri": "https://localhost:8080/"
        },
        "id": "4OA28daZaADi",
        "outputId": "98d67bac-5079-46fa-caca-6e68c6153550"
      },
      "execution_count": 11,
      "outputs": [
        {
          "output_type": "stream",
          "name": "stdout",
          "text": [
            "la media de los tiempos de los corredores es --> 17.2\n"
          ]
        }
      ]
    },
    {
      "cell_type": "markdown",
      "source": [
        "MODA"
      ],
      "metadata": {
        "id": "0sDkFWNwau8N"
      }
    },
    {
      "cell_type": "code",
      "source": [
        "#Definamos la variable moda para calcular la moda de la lista de la funcion\n",
        "# mode\n",
        "moda = mode (tiempos100mts)\n",
        "print(\"la moda de los tiempos es --->\",moda)"
      ],
      "metadata": {
        "id": "1cnOQMxmawwC",
        "colab": {
          "base_uri": "https://localhost:8080/"
        },
        "outputId": "07ac498b-badd-412c-9450-e4a6c3e26d52"
      },
      "execution_count": 12,
      "outputs": [
        {
          "output_type": "stream",
          "name": "stdout",
          "text": [
            "la moda de los tiempos es ---> 15.1\n"
          ]
        }
      ]
    },
    {
      "cell_type": "markdown",
      "source": [
        "**FABRICAS**"
      ],
      "metadata": {
        "id": "dSgwb_5egSON"
      }
    },
    {
      "cell_type": "code",
      "source": [
        "#Librebria para generar numeros aleatorios\n",
        "import random\n"
      ],
      "metadata": {
        "id": "NaStsqrSfMa5"
      },
      "execution_count": 13,
      "outputs": []
    },
    {
      "cell_type": "code",
      "source": [
        "fabrica1 = []\n",
        "for i in range(100):\n",
        "  numero_aleatorio = round( random.uniform(50, 100), 2 )\n",
        "  fabrica1.append(numero_aleatorio)\n",
        "print (fabrica1)"
      ],
      "metadata": {
        "colab": {
          "base_uri": "https://localhost:8080/"
        },
        "id": "xPttmlZ7fXM4",
        "outputId": "1499d899-bd2c-45ad-cbec-6777e3934746"
      },
      "execution_count": 23,
      "outputs": [
        {
          "output_type": "stream",
          "name": "stdout",
          "text": [
            "[89.28, 92.68, 68.95, 76.32, 56.36, 59.68, 84.6, 54.28, 50.11, 87.06, 91.55, 96.67, 69.88, 96.51, 68.96, 92.53, 68.97, 70.92, 97.37, 67.94, 64.84, 78.73, 96.03, 83.21, 88.58, 70.28, 99.46, 70.81, 51.71, 60.11, 76.76, 72.28, 96.91, 78.55, 73.31, 55.84, 85.05, 96.33, 89.8, 68.81, 85.92, 66.84, 71.33, 57.48, 94.32, 87.83, 79.81, 97.26, 59.35, 70.16, 50.87, 99.61, 59.75, 87.79, 87.44, 99.42, 60.48, 74.1, 58.44, 62.7, 98.19, 79.92, 82.47, 58.03, 71.18, 98.71, 79.2, 86.7, 82.5, 73.67, 63.8, 60.45, 56.22, 82.27, 61.35, 75.27, 79.19, 59.31, 80.86, 68.61, 66.78, 53.85, 78.87, 56.29, 57.93, 94.92, 96.58, 81.52, 83.8, 96.46, 86.42, 70.43, 90.94, 89.99, 76.96, 79.48, 53.72, 78.18, 70.0, 58.89]\n"
          ]
        }
      ]
    },
    {
      "cell_type": "code",
      "source": [
        "fabrica2 = []\n",
        "for i in range(100):\n",
        "  numero_aleatorio2 = round(random.uniform(50,100), 2)\n",
        "  fabrica2.append(numero_aleatorio2)\n",
        "print(fabrica2)"
      ],
      "metadata": {
        "colab": {
          "base_uri": "https://localhost:8080/"
        },
        "id": "RfT-U6gKhwNU",
        "outputId": "dead93c6-36a9-495c-d99b-339de17a8c17"
      },
      "execution_count": 26,
      "outputs": [
        {
          "output_type": "stream",
          "name": "stdout",
          "text": [
            "[75.87, 85.22, 82.8, 51.66, 63.26, 70.59, 57.78, 66.67, 62.63, 76.59, 80.76, 92.45, 73.16, 80.74, 93.14, 92.36, 65.13, 92.13, 83.93, 93.9, 62.13, 87.11, 81.32, 82.34, 99.65, 51.47, 59.3, 93.82, 83.3, 62.38, 72.93, 56.95, 96.9, 96.07, 94.62, 81.6, 67.31, 98.23, 61.62, 50.13, 68.8, 68.12, 63.58, 98.02, 53.08, 65.74, 92.95, 81.77, 93.51, 60.03, 82.3, 51.0, 59.77, 63.72, 75.66, 71.54, 65.74, 61.75, 90.36, 67.56, 80.73, 87.8, 55.73, 69.31, 74.77, 86.72, 59.11, 70.45, 50.72, 54.68, 67.52, 61.39, 54.22, 77.28, 85.7, 97.21, 97.23, 88.8, 55.13, 67.72, 93.1, 89.26, 58.76, 50.28, 73.75, 56.22, 68.37, 91.94, 67.98, 88.03, 90.85, 50.77, 70.67, 68.4, 63.71, 78.93, 90.4, 94.93, 64.44, 55.24]\n"
          ]
        }
      ]
    },
    {
      "cell_type": "code",
      "source": [
        "#libreria de phyton para graficar valores\n",
        "import matplotlib.pyplot as plt"
      ],
      "metadata": {
        "id": "yB73k6BtiMUH"
      },
      "execution_count": 31,
      "outputs": []
    },
    {
      "cell_type": "code",
      "source": [
        "plt.hist(fabrica1)\n",
        "plt.title(\"Producción diaria de la Fabrica 1\")"
      ],
      "metadata": {
        "colab": {
          "base_uri": "https://localhost:8080/",
          "height": 469
        },
        "id": "L5_TSTLXiVxE",
        "outputId": "073bcf27-f144-451d-8da6-8b2b08d5c7ab"
      },
      "execution_count": 17,
      "outputs": [
        {
          "output_type": "execute_result",
          "data": {
            "text/plain": [
              "Text(0.5, 1.0, 'Producción diaria de la Fabrica 1')"
            ]
          },
          "metadata": {},
          "execution_count": 17
        },
        {
          "output_type": "display_data",
          "data": {
            "text/plain": [
              "<Figure size 640x480 with 1 Axes>"
            ],
            "image/png": "[encoded data removed]"
          },
          "metadata": {}
        }
      ]
    },
    {
      "cell_type": "code",
      "source": [
        "plt.hist(fabrica2)\n",
        "plt.title(\"Producción diaria de la Fabrica 2\")"
      ],
      "metadata": {
        "colab": {
          "base_uri": "https://localhost:8080/",
          "height": 469
        },
        "id": "tZe_oVG8jVtz",
        "outputId": "8d25acf1-1fc9-4c5b-ddb6-09762d3af446"
      },
      "execution_count": 18,
      "outputs": [
        {
          "output_type": "execute_result",
          "data": {
            "text/plain": [
              "Text(0.5, 1.0, 'Producción diaria de la Fabrica 2')"
            ]
          },
          "metadata": {},
          "execution_count": 18
        },
        {
          "output_type": "display_data",
          "data": {
            "text/plain": [
              "<Figure size 640x480 with 1 Axes>"
            ],
            "image/png": "[encoded data removed]"
          },
          "metadata": {}
        }
      ]
    },
    {
      "cell_type": "code",
      "source": [
        "# generar 2 subplot de 1 renglon por 2 columnas para desplegar los\n",
        "# 2 una del lado de la otra\n",
        "fig,(ax1, ax2) = plt.subplots(nrows = 1, ncols=2, figsize= (10, 5))\n",
        "ax1.hist(fabrica1)\n",
        "ax2.hist(fabrica2)\n",
        "plt.show()"
      ],
      "metadata": {
        "colab": {
          "base_uri": "https://localhost:8080/",
          "height": 445
        },
        "id": "4RiZJglwjj9a",
        "outputId": "fcc2f2d1-3b01-473a-b596-562533cbbefc"
      },
      "execution_count": 28,
      "outputs": [
        {
          "output_type": "display_data",
          "data": {
            "text/plain": [
              "<Figure size 1000x500 with 2 Axes>"
            ],
            "image/png": "[encoded data removed]"
          },
          "metadata": {}
        }
      ]
    },
    {
      "cell_type": "code",
      "source": [
        "media1 = mean(fabrica1)\n",
        "mediana1 = median(fabrica1)\n",
        "moda1 = mode (fabrica1)\n",
        "\n",
        "print(\"Valores de la fabrica 1\")\n",
        "print(\"La media es=\",media1)\n",
        "print(\" la mediana es =\", mediana1)\n",
        "print(\"La moda es =\",moda1)"
      ],
      "metadata": {
        "colab": {
          "base_uri": "https://localhost:8080/"
        },
        "id": "VEN5DE5RepAJ",
        "outputId": "d404816e-a700-4eb1-b4fa-eadc691156d6"
      },
      "execution_count": 20,
      "outputs": [
        {
          "output_type": "stream",
          "name": "stdout",
          "text": [
            "Valores de la fabrica 1\n",
            "La media es= 75.8476\n",
            " la mediana es = 76.78\n",
            "La moda es = 93.4\n"
          ]
        }
      ]
    },
    {
      "cell_type": "code",
      "source": [
        "plt.hist(fabrica1, bins=10, alpha=0.2, color=\"b\", edgecolor = \"black\")\n",
        "plt.axvline(media1, color=\"b\", linestyle= \"dashed\", linewidth=2, label= \"Media\")\n",
        "plt.axvline(mediana1, color=\"r\", linestyle= \"dashed\", linewidth=2, label= \"Mediana\")\n",
        "plt.axvline(moda1, color=\"y\", linestyle= \"dashed\", linewidth=2, label= \"Moda\")\n",
        "plt.xlabel(\"Valor\")\n",
        "plt.ylabel(\"Frecuencia\")\n",
        "plt.title(\"Producción de la Fabrica 1\")\n",
        "plt.legend()\n",
        "plt.show()\n"
      ],
      "metadata": {
        "colab": {
          "base_uri": "https://localhost:8080/",
          "height": 472
        },
        "id": "RnuPgar9vMXa",
        "outputId": "4e77b8ae-d839-43e7-8f20-d20c351be85d"
      },
      "execution_count": 40,
      "outputs": [
        {
          "output_type": "display_data",
          "data": {
            "text/plain": [
              "<Figure size 640x480 with 1 Axes>"
            ],
            "image/png": "[encoded data removed]"
          },
          "metadata": {}
        }
      ]
    },
    {
      "cell_type": "code",
      "source": [
        "media2 = mean(fabrica2)\n",
        "mediana2 = median(fabrica2)\n",
        "moda2 = mode (fabrica2)\n",
        "\n",
        "print(\"Valores de la fabrica 2\")\n",
        "print(\"La media es=\",media2)\n",
        "print(\" la mediana es =\", mediana2)\n",
        "print(\"La moda es =\",moda2)"
      ],
      "metadata": {
        "colab": {
          "base_uri": "https://localhost:8080/"
        },
        "id": "83ifAK1H0xQK",
        "outputId": "41d0ce4e-de6d-4c01-facc-43308706d851"
      },
      "execution_count": 43,
      "outputs": [
        {
          "output_type": "stream",
          "name": "stdout",
          "text": [
            "Valores de la fabrica 2\n",
            "La media es= 74.232\n",
            " la mediana es = 72.23500000000001\n",
            "La moda es = 65.74\n"
          ]
        }
      ]
    },
    {
      "cell_type": "code",
      "source": [
        "plt.hist(fabrica2, bins=10, alpha=0.2, color=\"b\", edgecolor = \"black\")\n",
        "plt.axvline (media2, color=\"b\", linestyle= \"dashed\", linewidth=2, label= \"Media\")\n",
        "plt.axvline(mediana2, color=\"r\", linestyle= \"dashed\", linewidth=2, label= \"Mediana\")\n",
        "plt.axvline(moda2, color=\"y\", linestyle= \"dashed\", linewidth=2, label= \"Moda\")\n",
        "plt.xlabel(\"Valor\")\n",
        "plt.ylabel(\"Frecuencia\")\n",
        "plt.title(\"Producción de la Fabrica 2\")\n",
        "plt.legend()\n",
        "plt.show()\n"
      ],
      "metadata": {
        "colab": {
          "base_uri": "https://localhost:8080/",
          "height": 472
        },
        "outputId": "4bb81ee3-ded2-49e9-a692-23f6a8fd0e31",
        "id": "nOvqFvv3zbbO"
      },
      "execution_count": 44,
      "outputs": [
        {
          "output_type": "display_data",
          "data": {
            "text/plain": [
              "<Figure size 640x480 with 1 Axes>"
            ],
            "image/png": "[encoded data removed]"
          },
          "metadata": {}
        }
      ]
    }
  ]
}