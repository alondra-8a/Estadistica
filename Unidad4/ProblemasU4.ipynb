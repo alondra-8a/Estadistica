{
  "nbformat": 4,
  "nbformat_minor": 0,
  "metadata": {
    "colab": {
      "provenance": [],
      "authorship_tag": "ABX9TyPvL7RpKAiLWV6eR32geW+C",
      "include_colab_link": true
    },
    "kernelspec": {
      "name": "python3",
      "display_name": "Python 3"
    },
    "language_info": {
      "name": "python"
    }
  },
  "cells": [
    {
      "cell_type": "markdown",
      "metadata": {
        "id": "view-in-github",
        "colab_type": "text"
      },
      "source": [
        "<a href=\"https://colab.research.google.com/github/alondra-8a/Estadistica/blob/main/Unidad4/ProblemasU4.ipynb\" target=\"_parent\"><img src=\"https://colab.research.google.com/assets/colab-badge.svg\" alt=\"Open In Colab\"/></a>"
      ]
    },
    {
      "cell_type": "markdown",
      "source": [
        "#Problemas Unidad 4\n",
        "\n",
        "Docente:José Gabriel Rodríguez Rivas\n",
        "\n",
        "Alumna: Alondra Viridiana Ochoa Ibáñez"
      ],
      "metadata": {
        "id": "rNYaSuO-b8UW"
      }
    },
    {
      "cell_type": "markdown",
      "source": [
        "##Problema 1\n",
        "Solucion del problema: Poisson, porque los eventos ocurren de forma independiente y trata de contar el número de veces que ocurre un evento.\n",
        "\n",
        "- El numero x de personas ingresadas a una unidad de cuidados intensivos en un hospital particular, en un dia, tiene una distribucion de probabilidad de Poisoon con media igual a 5 personas por dia.\n",
        "- A) ¿Cual es la probabilidad de que el numero de personas ingresadas a una unidad de cuidados intensivos en un hospital particular, en un dia particular, sea dos? **0.08422**\n",
        "- B) ¿Es probable que x exceda de 10? explicar\n",
        "\n",
        "\n",
        "\n",
        "\n"
      ],
      "metadata": {
        "id": "Va1QubkfcT_4"
      }
    },
    {
      "cell_type": "code",
      "execution_count": 1,
      "metadata": {
        "id": "O6OXYnxAb6Ji"
      },
      "outputs": [],
      "source": [
        "import math\n",
        "from scipy.stats import poisson\n"
      ]
    },
    {
      "cell_type": "code",
      "source": [
        "#A) Probabilidad de que ingresen exactamente 2 personas\n",
        "lam = 5\n",
        "x = 2\n",
        "prob2 = poisson.pmf(x, lam)\n",
        "print(prob2)\n"
      ],
      "metadata": {
        "colab": {
          "base_uri": "https://localhost:8080/"
        },
        "id": "w9OxFtMDfXpz",
        "outputId": "35730a03-38c7-472f-bb1b-fcebabbb0fcc"
      },
      "execution_count": 6,
      "outputs": [
        {
          "output_type": "stream",
          "name": "stdout",
          "text": [
            "0.08422433748856832\n"
          ]
        }
      ]
    },
    {
      "cell_type": "code",
      "source": [
        "# B) ¿Es probable que x exceda de 10?\n",
        "\n",
        "prob10 = 1 - poisson.cdf(10, lam)\n",
        "print(prob10)\n",
        "\n"
      ],
      "metadata": {
        "colab": {
          "base_uri": "https://localhost:8080/"
        },
        "id": "UUTxLowdfdyN",
        "outputId": "24fbeeda-6b09-493d-c360-6d0f6416925e"
      },
      "execution_count": 8,
      "outputs": [
        {
          "output_type": "stream",
          "name": "stdout",
          "text": [
            "0.013695268598382881\n"
          ]
        }
      ]
    },
    {
      "cell_type": "code",
      "source": [
        "if prob10 > 0.05:\n",
        "    print(\"Es probable que ingresen más de 10 personas.\")\n",
        "else:\n",
        "    print(\"No es muy probable que ingresen más de 10 personas.\")"
      ],
      "metadata": {
        "colab": {
          "base_uri": "https://localhost:8080/"
        },
        "id": "rm0NZlWWfpIz",
        "outputId": "01265418-aee2-49ca-ee7a-b6650a2d9ec5"
      },
      "execution_count": 10,
      "outputs": [
        {
          "output_type": "stream",
          "name": "stdout",
          "text": [
            "No es muy probable que ingresen más de 10 personas.\n"
          ]
        }
      ]
    },
    {
      "cell_type": "markdown",
      "source": [
        "##Problema 2\n",
        "Solucion del problema:\n",
        "- Un fabricante de podadoras para el pasto compra motores de 1hp y 2 ciclos, en lotes de 1000, a un proveedor.\n",
        "- El fabricante equipa cada una de las podadoras producidas por su planta con uno de los motores.\n",
        "- La historia muestra que la probabilidad de que cualquier motor del proveedor resulte no satisfactorio es de .001.\n",
        "**EN UN EMBARQUE DE 1,000 MOTORES CALCULAR**\n",
        "- ¿Cual es la probabilidad de que ninguno sea defectuoso? **0.3678**\n",
        "-¿Cual es la probabilidad de que 3 sean defectuosos? **0.0613**\n",
        "- ¿Cual es la probabilidad de que 4 sean defectuosos? **0.0153**"
      ],
      "metadata": {
        "id": "1BriB0cNdtDI"
      }
    },
    {
      "cell_type": "code",
      "source": [
        "from scipy.stats import poisson"
      ],
      "metadata": {
        "id": "lgbYE_phehUA"
      },
      "execution_count": 11,
      "outputs": []
    },
    {
      "cell_type": "code",
      "source": [
        "lamb = 1000 * 0.001\n",
        "\n",
        "# A) Probabilidad de que ningún motor sea defectuoso\n",
        "prob_0 = poisson.pmf(0, lamb)\n",
        "\n",
        "# B) Probabilidad de que 3 motores sean defectuosos\n",
        "prob_3 = poisson.pmf(3, lamb)\n",
        "\n",
        "# C) Probabilidad de que 4 motores sean defectuosos\n",
        "prob_4 = poisson.pmf(4, lamb)\n",
        "\n",
        "print(prob_0)\n",
        "print(prob_3)\n",
        "print(prob_4)\n"
      ],
      "metadata": {
        "colab": {
          "base_uri": "https://localhost:8080/"
        },
        "id": "yaGQ4XjXhJpU",
        "outputId": "d33b18c9-e231-4ab2-e601-8ec9099b36c9"
      },
      "execution_count": 13,
      "outputs": [
        {
          "output_type": "stream",
          "name": "stdout",
          "text": [
            "0.36787944117144233\n",
            "0.06131324019524039\n",
            "0.015328310048810101\n"
          ]
        }
      ]
    }
  ]
}