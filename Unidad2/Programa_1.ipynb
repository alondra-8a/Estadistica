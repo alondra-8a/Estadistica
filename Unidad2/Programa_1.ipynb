{
  "nbformat": 4,
  "nbformat_minor": 0,
  "metadata": {
    "colab": {
      "provenance": [],
      "authorship_tag": "ABX9TyP+jmSyQ2dN86lZ0yRqae52",
      "include_colab_link": true
    },
    "kernelspec": {
      "name": "python3",
      "display_name": "Python 3"
    },
    "language_info": {
      "name": "python"
    }
  },
  "cells": [
    {
      "cell_type": "markdown",
      "metadata": {
        "id": "view-in-github",
        "colab_type": "text"
      },
      "source": [
        "<a href=\"https://colab.research.google.com/github/alondra-8a/Estadistica/blob/main/Unidad2/Programa_1.ipynb\" target=\"_parent\"><img src=\"https://colab.research.google.com/assets/colab-badge.svg\" alt=\"Open In Colab\"/></a>"
      ]
    },
    {
      "cell_type": "markdown",
      "source": [
        "#Combinaciones con repetición\n",
        "##Unidad 2\n",
        "Docente: Jose Gabriel Rodriguez Rivas\n",
        "\n",
        "Alumna: Alondra Viridiana Ochoa Ibáñez\n",
        "\n",
        "Carrera: Ing. Sistemas Computacionales\n"
      ],
      "metadata": {
        "id": "rLt1c8Xmbwik"
      }
    },
    {
      "cell_type": "code",
      "execution_count": null,
      "metadata": {
        "id": "DerfPqiZbe-K"
      },
      "outputs": [],
      "source": [
        "import math as mt\n",
        "from itertools import combinations\n",
        "from itertools import combinations_with_replacement\n",
        "import numpy as np"
      ]
    },
    {
      "cell_type": "code",
      "source": [
        "\n",
        "nombres = [\"David\", \"Janeth\", \"Ari\", \"Daniela\", \"Ana\", \"Kiara\", \"Dayana\", \"Allison\", \"Jordan\", \"Camila\"]\n",
        "n = len(nombres)\n",
        "r = 2 #como agrupar\n",
        "\n",
        "Cn = mt.factorial(n) / (mt.factorial(r) * mt.factorial(n - r))\n",
        "\n",
        "print(\"Existen\", Cn, \"posibles combinaciones sin repetición del total de\", n, \"nombres en grupos de\", r, \"en \", r)\n",
        "\n",
        "combinaciones_nombres = list(combinations(nombres, r))\n",
        "\n",
        "print(\"Aquí las combinaciones:\")\n",
        "for combinacion in combinaciones_nombres:\n",
        "    print(combinacion)\n"
      ],
      "metadata": {
        "id": "pcT4_pQOXEXZ"
      },
      "execution_count": null,
      "outputs": []
    },
    {
      "cell_type": "markdown",
      "source": [
        "##Ejemplo 2. Caracteres alfabeticos y digitos"
      ],
      "metadata": {
        "id": "eeEk80V9YSS_"
      }
    },
    {
      "cell_type": "code",
      "source": [
        "caracteres = [\"A\", \"B\", \"C\", \"D\", \"E\",\"F\", \"0\", \"1\", \"2\", \"3\", \"4\", \"5\"]\n",
        "n = len(caracteres)\n",
        "r = 10 #como agrupar\n",
        "\n",
        "Cn = mt.factorial(n) / (mt.factorial(r) * mt.factorial(n - r))\n",
        "\n",
        "print(\"Existen\", Cn, \"posibles combinaciones sin repetición del total de\", n, \"caracteres en grupos de\", r, \"en \", r)\n",
        "\n",
        "print(\"Aquí las combinaciones:\")\n",
        "combinaciones_caracteres = list(combinations(caracteres, r))\n",
        "for combinacion in combinaciones_caracteres:\n",
        "    print(combinacion)\n"
      ],
      "metadata": {
        "colab": {
          "base_uri": "https://localhost:8080/"
        },
        "id": "DDywTrEEYX_G",
        "outputId": "aa515d9a-d452-4638-ab4f-c164b7de8a05"
      },
      "execution_count": 41,
      "outputs": [
        {
          "output_type": "stream",
          "name": "stdout",
          "text": [
            "Existen 66.0 posibles combinaciones sin repetición del total de 12 caracteres en grupos de 10 en  10\n",
            "Aquí las combinaciones:\n",
            "('A', 'B', 'C', 'D', 'E', 'F', '0', '1', '2', '3')\n",
            "('A', 'B', 'C', 'D', 'E', 'F', '0', '1', '2', '4')\n",
            "('A', 'B', 'C', 'D', 'E', 'F', '0', '1', '2', '5')\n",
            "('A', 'B', 'C', 'D', 'E', 'F', '0', '1', '3', '4')\n",
            "('A', 'B', 'C', 'D', 'E', 'F', '0', '1', '3', '5')\n",
            "('A', 'B', 'C', 'D', 'E', 'F', '0', '1', '4', '5')\n",
            "('A', 'B', 'C', 'D', 'E', 'F', '0', '2', '3', '4')\n",
            "('A', 'B', 'C', 'D', 'E', 'F', '0', '2', '3', '5')\n",
            "('A', 'B', 'C', 'D', 'E', 'F', '0', '2', '4', '5')\n",
            "('A', 'B', 'C', 'D', 'E', 'F', '0', '3', '4', '5')\n",
            "('A', 'B', 'C', 'D', 'E', 'F', '1', '2', '3', '4')\n",
            "('A', 'B', 'C', 'D', 'E', 'F', '1', '2', '3', '5')\n",
            "('A', 'B', 'C', 'D', 'E', 'F', '1', '2', '4', '5')\n",
            "('A', 'B', 'C', 'D', 'E', 'F', '1', '3', '4', '5')\n",
            "('A', 'B', 'C', 'D', 'E', 'F', '2', '3', '4', '5')\n",
            "('A', 'B', 'C', 'D', 'E', '0', '1', '2', '3', '4')\n",
            "('A', 'B', 'C', 'D', 'E', '0', '1', '2', '3', '5')\n",
            "('A', 'B', 'C', 'D', 'E', '0', '1', '2', '4', '5')\n",
            "('A', 'B', 'C', 'D', 'E', '0', '1', '3', '4', '5')\n",
            "('A', 'B', 'C', 'D', 'E', '0', '2', '3', '4', '5')\n",
            "('A', 'B', 'C', 'D', 'E', '1', '2', '3', '4', '5')\n",
            "('A', 'B', 'C', 'D', 'F', '0', '1', '2', '3', '4')\n",
            "('A', 'B', 'C', 'D', 'F', '0', '1', '2', '3', '5')\n",
            "('A', 'B', 'C', 'D', 'F', '0', '1', '2', '4', '5')\n",
            "('A', 'B', 'C', 'D', 'F', '0', '1', '3', '4', '5')\n",
            "('A', 'B', 'C', 'D', 'F', '0', '2', '3', '4', '5')\n",
            "('A', 'B', 'C', 'D', 'F', '1', '2', '3', '4', '5')\n",
            "('A', 'B', 'C', 'D', '0', '1', '2', '3', '4', '5')\n",
            "('A', 'B', 'C', 'E', 'F', '0', '1', '2', '3', '4')\n",
            "('A', 'B', 'C', 'E', 'F', '0', '1', '2', '3', '5')\n",
            "('A', 'B', 'C', 'E', 'F', '0', '1', '2', '4', '5')\n",
            "('A', 'B', 'C', 'E', 'F', '0', '1', '3', '4', '5')\n",
            "('A', 'B', 'C', 'E', 'F', '0', '2', '3', '4', '5')\n",
            "('A', 'B', 'C', 'E', 'F', '1', '2', '3', '4', '5')\n",
            "('A', 'B', 'C', 'E', '0', '1', '2', '3', '4', '5')\n",
            "('A', 'B', 'C', 'F', '0', '1', '2', '3', '4', '5')\n",
            "('A', 'B', 'D', 'E', 'F', '0', '1', '2', '3', '4')\n",
            "('A', 'B', 'D', 'E', 'F', '0', '1', '2', '3', '5')\n",
            "('A', 'B', 'D', 'E', 'F', '0', '1', '2', '4', '5')\n",
            "('A', 'B', 'D', 'E', 'F', '0', '1', '3', '4', '5')\n",
            "('A', 'B', 'D', 'E', 'F', '0', '2', '3', '4', '5')\n",
            "('A', 'B', 'D', 'E', 'F', '1', '2', '3', '4', '5')\n",
            "('A', 'B', 'D', 'E', '0', '1', '2', '3', '4', '5')\n",
            "('A', 'B', 'D', 'F', '0', '1', '2', '3', '4', '5')\n",
            "('A', 'B', 'E', 'F', '0', '1', '2', '3', '4', '5')\n",
            "('A', 'C', 'D', 'E', 'F', '0', '1', '2', '3', '4')\n",
            "('A', 'C', 'D', 'E', 'F', '0', '1', '2', '3', '5')\n",
            "('A', 'C', 'D', 'E', 'F', '0', '1', '2', '4', '5')\n",
            "('A', 'C', 'D', 'E', 'F', '0', '1', '3', '4', '5')\n",
            "('A', 'C', 'D', 'E', 'F', '0', '2', '3', '4', '5')\n",
            "('A', 'C', 'D', 'E', 'F', '1', '2', '3', '4', '5')\n",
            "('A', 'C', 'D', 'E', '0', '1', '2', '3', '4', '5')\n",
            "('A', 'C', 'D', 'F', '0', '1', '2', '3', '4', '5')\n",
            "('A', 'C', 'E', 'F', '0', '1', '2', '3', '4', '5')\n",
            "('A', 'D', 'E', 'F', '0', '1', '2', '3', '4', '5')\n",
            "('B', 'C', 'D', 'E', 'F', '0', '1', '2', '3', '4')\n",
            "('B', 'C', 'D', 'E', 'F', '0', '1', '2', '3', '5')\n",
            "('B', 'C', 'D', 'E', 'F', '0', '1', '2', '4', '5')\n",
            "('B', 'C', 'D', 'E', 'F', '0', '1', '3', '4', '5')\n",
            "('B', 'C', 'D', 'E', 'F', '0', '2', '3', '4', '5')\n",
            "('B', 'C', 'D', 'E', 'F', '1', '2', '3', '4', '5')\n",
            "('B', 'C', 'D', 'E', '0', '1', '2', '3', '4', '5')\n",
            "('B', 'C', 'D', 'F', '0', '1', '2', '3', '4', '5')\n",
            "('B', 'C', 'E', 'F', '0', '1', '2', '3', '4', '5')\n",
            "('B', 'D', 'E', 'F', '0', '1', '2', '3', '4', '5')\n",
            "('C', 'D', 'E', 'F', '0', '1', '2', '3', '4', '5')\n"
          ]
        }
      ]
    },
    {
      "cell_type": "markdown",
      "source": [
        "##Combinaciones con repetición"
      ],
      "metadata": {
        "id": "tQ8WS5_lae_H"
      }
    },
    {
      "cell_type": "code",
      "source": [
        "dado = [\"1\", \"2\", \"3\", \"4\", \"5\", \"6\"]\n",
        "n = len(dado)\n",
        "r = 2 # se agrupa de 2 en 2 porque hay 2 dados\n",
        "\n",
        "CnR = mt.factorial(n + r - 1) / (mt.factorial(r) * mt.factorial((n + r - 1)-r))\n",
        "print(\"Existen\", CnR ,\" posibles combinaciones con repeticion del total de \",n,\"caracteres \", \" en grupos de \", r, \"en  \",r)\n",
        "\n",
        "print(\"Aquí las combinaciones con repeticion de dos dados:\")\n",
        "elementos = [ 1, 2, 3, 4, 5, 6 ]\n",
        "r = 2\n",
        "\n",
        "combinaciones_dado = list(combinations_with_replacement(dado, r))\n",
        "for combinacion in combinaciones_dado:\n",
        "    print(combinacion)"
      ],
      "metadata": {
        "colab": {
          "base_uri": "https://localhost:8080/"
        },
        "id": "ZdKELIHvaieY",
        "outputId": "2abd185a-c3d5-4054-8595-1ffe6525f7e1"
      },
      "execution_count": 43,
      "outputs": [
        {
          "output_type": "stream",
          "name": "stdout",
          "text": [
            "Existen 21.0  posibles combinaciones con repeticion del total de  6 caracteres   en grupos de  2 en   2\n",
            "Aquí las combinaciones con repeticion de dos dados:\n",
            "('1', '1')\n",
            "('1', '2')\n",
            "('1', '3')\n",
            "('1', '4')\n",
            "('1', '5')\n",
            "('1', '6')\n",
            "('2', '2')\n",
            "('2', '3')\n",
            "('2', '4')\n",
            "('2', '5')\n",
            "('2', '6')\n",
            "('3', '3')\n",
            "('3', '4')\n",
            "('3', '5')\n",
            "('3', '6')\n",
            "('4', '4')\n",
            "('4', '5')\n",
            "('4', '6')\n",
            "('5', '5')\n",
            "('5', '6')\n",
            "('6', '6')\n"
          ]
        }
      ]
    }
  ]
}