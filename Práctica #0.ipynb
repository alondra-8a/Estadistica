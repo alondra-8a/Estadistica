{
  "cells": [
    {
      "cell_type": "markdown",
      "metadata": {
        "id": "view-in-github",
        "colab_type": "text"
      },
      "source": [
        "<a href=\"https://colab.research.google.com/github/alondra-8a/Estadistica/blob/main/Pr%C3%A1ctica%20%230.ipynb\" target=\"_parent\"><img src=\"https://colab.research.google.com/assets/colab-badge.svg\" alt=\"Open In Colab\"/></a>"
      ]
    },
    {
      "cell_type": "markdown",
      "source": [
        "# Probabilidad y Estadística\n",
        "##Unidad 1 Práctica #0 \"introduccion a Phyton\"\n",
        "\n",
        "\n",
        "Alumna: Alondra Viridiana Ochoa Ibáñez\n",
        "\n",
        "Docente: Dr Jose Gabriel Rodriguez Rivas\n",
        "\n",
        "Grupo: 2Y"
      ],
      "metadata": {
        "id": "mvZ0sTexesXE"
      }
    },
    {
      "cell_type": "code",
      "source": [
        "a = 60\n",
        "b = 90\n",
        "if a < b:\n",
        "     print (a,\" es menor que \",b)\n",
        "else:\n",
        "    print(b,\" es menor que \",a)\n",
        "print(\"fuera el if\")\n",
        ""
      ],
      "metadata": {
        "id": "sO72XmxIchlI",
        "outputId": "76421abc-b7fe-46a7-9503-8f579d17dd2d",
        "colab": {
          "base_uri": "https://localhost:8080/"
        }
      },
      "execution_count": 9,
      "outputs": [
        {
          "output_type": "stream",
          "name": "stdout",
          "text": [
            "60  es menor que  90\n",
            "fuera el if\n"
          ]
        }
      ]
    },
    {
      "cell_type": "code",
      "source": [
        "for i in range (10):\n",
        "    print (i)\n",
        "\n",
        ""
      ],
      "metadata": {
        "id": "GFvkDJYud419",
        "outputId": "72fafcd2-1a9d-41fc-93e4-fdf42e44245d",
        "colab": {
          "base_uri": "https://localhost:8080/"
        }
      },
      "execution_count": 15,
      "outputs": [
        {
          "output_type": "stream",
          "name": "stdout",
          "text": [
            "0\n",
            "1\n",
            "2\n",
            "3\n",
            "4\n",
            "5\n",
            "6\n",
            "7\n",
            "8\n",
            "9\n"
          ]
        }
      ]
    }
  ],
  "metadata": {
    "colab": {
      "name": "Te damos la bienvenida a Colaboratory",
      "provenance": [],
      "include_colab_link": true
    },
    "kernelspec": {
      "display_name": "Python 3",
      "name": "python3"
    }
  },
  "nbformat": 4,
  "nbformat_minor": 0
}